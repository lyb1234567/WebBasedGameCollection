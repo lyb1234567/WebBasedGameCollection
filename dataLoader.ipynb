{
 "cells": [
  {
   "cell_type": "code",
   "execution_count": 2,
   "metadata": {},
   "outputs": [
    {
     "ename": "SyntaxError",
     "evalue": "expression expected after dictionary key and ':' (3468748260.py, line 15)",
     "output_type": "error",
     "traceback": [
      "\u001b[1;36m  Cell \u001b[1;32mIn[2], line 15\u001b[1;36m\u001b[0m\n\u001b[1;33m    'profilePicture' :\u001b[0m\n\u001b[1;37m                     ^\u001b[0m\n\u001b[1;31mSyntaxError\u001b[0m\u001b[1;31m:\u001b[0m expression expected after dictionary key and ':'\n"
     ]
    }
   ],
   "source": [
    "import requests\n",
    "login = {\n",
    "    'username':'root',\n",
    "    'password':123456789\n",
    "}\n",
    "response=requests.post(\"http://127.0.0.1:8000/api/v1/token/login\", data=login)\n",
    "print(response.json()['auth_token'])\n",
    "token = response.json()['auth_token']\n",
    "token = \"Token \"+token\n",
    "body ={\n",
    "    'pubPassword': 'Sparsh@123', \n",
    "    'pubEmail': 'Mail@mail.com', \n",
    "    'publisherDescription': 'Publisher', \n",
    "    'publisherInfo': 'Pro Player',\n",
    "    'profilePicture' : \n",
    "}\n",
    "r=requests.post(\"http://127.0.0.1:8000/api/v1/publishers/create/\", headers={\"Authorization\":token}, data=body)\n",
    "print(r.json())\n",
    "# r=requests.get(\"http://127.0.0.1:8000/api/v1/publishers/\", headers={\"Authorization\":token})\n",
    "# print(r.json())"
   ]
  },
  {
   "cell_type": "code",
   "execution_count": 3,
   "metadata": {},
   "outputs": [
    {
     "name": "stdout",
     "output_type": "stream",
     "text": [
      "100\n",
      "{'Fantasy Flight Games': 7, 'Feuerland Spiele': 5, 'Lookout Games': 4, 'Eagle-Gryphon Games': 4, 'Z-Man Games': 3, 'Czech Games Edition': 3, 'eggertspiele': 3, 'Stonemaier Games': 3, 'Garphill Games': 3, 'Rio Grande Games': 3, 'Cephalofair Games': 2, 'Dire Wolf': 2, 'GMT Games': 2, 'Repos Production': 2, 'Awaken Realms': 2, 'KOSMOS': 2, 'Hans im Glück': 2, 'Roxley': 1, 'FryxGames': 1, 'Ares Games': 1, 'Greater Than Games, LLC': 1, 'Julien Delval': 1, 'Gavan Brown': 1, 'PD-Verlag': 1, 'Lautapelit.fi': 1, 'Leder Games': 1, 'dlp games': 1, 'Starling Games (II)': 1, 'WizKids (I)': 1, 'Cranio Creations': 1, 'Splotter Spellen': 1, 'Chip Theory Games': 1, None: 1, 'Wehrlegig Games': 1, 'alea': 1, 'Delicious Games': 1, 'Cool Mini Or Not': 1, 'Villő Farkas': 1, 'Flatout Games': 1, \"Game's Up\": 1, 'Allison Litchfield': 1, 'Domonkos Bence': 1, 'Red Raven Games': 1, 'Karma Games': 1, 'Schmidt Spiele': 1, 'Riot Games': 1, 'Kingdom Death': 1, 'Philippe Guérin': 1, 'Ossi Hiekkala': 1, 'Action Phase Games': 1, 'Renegade Game Studios': 1, 'Clément Masson': 1, 'Klemens Franz': 1, 'CMON Global Limited': 1, 'Czech Board Games': 1, 'NSKN Games': 1, 'Tomasz Bentkowski': 1, 'Wizards of the Coast': 1, 'Serious Poulp': 1, 'Kayenta Games': 1, 'R&D Games': 1, 'Foxtrot Games': 1, 'Cyril Demaegd': 1, 'Fabien Fulchiron': 1, 'Matagot': 1}\n"
     ]
    }
   ],
   "source": [
    "import json\n",
    "import operator\n",
    "# Opening JSON file\n",
    "f = open('game.json')\n",
    "  \n",
    "# returns JSON object as \n",
    "# a dictionary\n",
    "data = json.load(f)\n",
    "print(len(data))\n",
    "# Iterating through the json\n",
    "# list\n",
    "uniPubs = {}\n",
    "for d in data:\n",
    "    if(d['publisher'] not in uniPubs):\n",
    "        uniPubs[d['publisher']] = 1\n",
    "    else:\n",
    "        uniPubs[d['publisher']] += 1\n",
    "sorted_d = dict( sorted(uniPubs.items(), key=operator.itemgetter(1),reverse=True))\n",
    "print((sorted_d))\n",
    "# Closing file\n",
    "f.close()"
   ]
  },
  {
   "cell_type": "code",
   "execution_count": 4,
   "metadata": {},
   "outputs": [],
   "source": [
    "# print(data)\n",
    "game = {}\n",
    "cnt =1\n",
    "for d in data:\n",
    "    for k,v in d.items():\n",
    "        if(d['publisher']=='Fantasy Flight Games'):\n",
    "            game[d['Name']] = d\n",
    "        if(d['publisher']=='Lookout Games'):\n",
    "             game[d['Name']] = d\n",
    "        if(d['publisher']=='Z-Man Games'):\n",
    "             game[d['Name']] = d"
   ]
  },
  {
   "cell_type": "code",
   "execution_count": 5,
   "metadata": {},
   "outputs": [
    {
     "name": "stdout",
     "output_type": "stream",
     "text": [
      "14\n"
     ]
    }
   ],
   "source": [
    "print (len(game.items()))"
   ]
  },
  {
   "cell_type": "code",
   "execution_count": 10,
   "metadata": {},
   "outputs": [
    {
     "name": "stdout",
     "output_type": "stream",
     "text": [
      "Z-Man Games\n",
      "Pandemic Legacy: Season 1\n",
      "13+\n",
      "8.54\n",
      "Pandemic Legacyis a co-operative campaign game, with an overarching story-arc played through 12-24 sessions, depending on how well your group does at the game. At the beginning, the game starts very similar to basicPandemic, in which your team of disease-fighting specialists races against the clock to travel around the world, treating disease hotspots while researching cures for each of four plagues before they get out of hand.\n",
      "69.11\n",
      "2015\n",
      "https://cf.geekdo-images.com/-Qer2BBPG7qGGDu6KcVDIw__micro/img/n6-sXYD6XXZoqIxq4P6AG7VPCuA=/fit-in/64x64/filters:strip_icc()/pic2452831.png\n",
      "Fantasy Flight Games\n",
      "Twilight Imperium: Fourth Edition\n",
      "14+\n",
      "8.62\n",
      "Twilight Imperium (Fourth Edition)is a game of galactic conquest in which three to six players take on the role of one of seventeen factions vying for galactic domination through military might, political maneuvering, and economic bargaining. Every faction offers a completely different play experience, from the wormhole-hopping Ghosts of Creuss to the Emirates of Hacan, masters of trade and economics. These seventeen races are offered many paths to victory, but only one may sit upon the throne of Mecatol Rex as the new masters of the galaxy.\n",
      "125.39\n",
      "2017\n",
      "https://cf.geekdo-images.com/_Ppn5lssO5OaildSE-FgFA__micro/img/2gymaKs35_2yj7eyyA6cYyVmd9c=/fit-in/64x64/filters:strip_icc()/pic3727516.jpg\n",
      "Fantasy Flight Games\n",
      "Star Wars: Rebellion\n",
      "14+\n",
      "8.42\n",
      "Star Wars: Rebellionis a board game of epic conflict between the Galactic Empire and Rebel Alliance for two to four players.\n",
      "103.05\n",
      "2016\n",
      "https://cf.geekdo-images.com/7SrPNGBKg9IIsP4UQpOi8g__micro/img/nEvTiCkWpT-ymH4bstc9c335TtQ=/fit-in/64x64/filters:strip_icc()/pic4325841.jpg\n",
      "Fantasy Flight Games\n",
      "Arkham Horror: The Card Game\n",
      "14+\n",
      "8.14\n",
      "Something evil stirs in Arkham, and only you can stop it. Blurring the traditional lines between role-playing and card game experiences,Arkham Horror: The Card Gameis a Living Card Game of Lovecraftian mystery, monsters, and madness!\n",
      "35.96\n",
      "2016\n",
      "https://cf.geekdo-images.com/B5F5ulz0UivNgrI9Ky0euA__micro/img/DnDtwD_7oQR982carXqiVfhOQog=/fit-in/64x64/filters:strip_icc()/pic3122349.jpg\n",
      "Lookout Games\n",
      "Caverna: The Cave Farmers\n",
      "12+\n",
      "7.97\n",
      "Following along the same lines as its predecessor (Agricola),Caverna: The Cave Farmersis a worker-placement game at heart, with a focus on farming. In the game, you are the bearded leader of a small dwarf family that lives in a little cave in the mountains. You begin the game with a farmer and his spouse, and each member of the farming family represents an action that the player can take each turn. Together, you cultivate the forest in front of your cave and dig deeper into the mountain. You furnish the caves as dwellings for your offspring as well as working spaces for small enterprises.\n",
      "75.99\n",
      "2013\n",
      "https://cf.geekdo-images.com/rz22tqa5PCYvK9oDjIbvxg__micro/img/sog7ni3vUAAfvd66e6XW4iOca4I=/fit-in/64x64/filters:strip_icc()/pic1790789.jpg\n",
      "Lookout Games\n",
      "Agricola\n",
      "12+\n",
      "7.89\n",
      "Description from BoardgameNews\n",
      "59.08\n",
      "2007\n",
      "https://cf.geekdo-images.com/dDDo2Hexl80ucK1IlqTk-g__micro/img/SZgGqufNqaW8BCFT29wkYPaRXOE=/fit-in/64x64/filters:strip_icc()/pic831744.jpg\n",
      "Z-Man Games\n",
      "Pandemic Legacy: Season 2\n",
      "14+\n",
      "8.06\n",
      "Description from the publisher:\n",
      "53.63\n",
      "2017\n",
      "https://cf.geekdo-images.com/Qtkb-UTvHa0-kxt_MK1nKw__micro/img/eYV_Y45Hk66WceHroLlRqnHEHmg=/fit-in/64x64/filters:strip_icc()/pic3763549.jpg\n",
      "Fantasy Flight Games\n",
      "Mansions of Madness: Second Edition\n",
      "14+\n",
      "7.97\n",
      "Mansions of Madness: Second Editionis a fully co-operative, app-driven board game of horror and mystery for one to five players that takes place in the same universe asEldritch HorrorandElder Sign. Let the immersive app guide you through the veiled streets of Innsmouth and the haunted corridors of Arkham's cursed mansions as you search for answers and respite. Eight brave investigators stand ready to confront four scenarios of fear and mystery, collecting weapons, tools, and information, solving complex puzzles, and fighting monsters, insanity, and death. Open the door and step inside these hair-raisingMansions of Madness: Second Edition. It will take more than just survival to conquer the evils terrorizing this town.\n",
      "72.15\n",
      "2016\n",
      "https://cf.geekdo-images.com/LIooA9bTdjnE9qmhjL-UFw__micro/img/rsUu4YzIErI1oi6TRRA-cKiS-I0=/fit-in/64x64/filters:strip_icc()/pic3118622.jpg\n",
      "Z-Man Games\n",
      "Pandemic Legacy: Season 0\n",
      "14+\n",
      "8.47\n",
      "1962 — The Cold War continues as a new threat looms on the horizon, a deadly new Soviet bioweapon, something called \"Project MEDUSA\". You and your fellow medical graduates have been recruited by the CIA for the critical mission of investigating and preventing its development. Travel the world using carefully constructed aliases to move swiftly between Allied, Neutral, and Soviet cities. Your missions will require you to neutralize enemy agents, acquire specific targets, and set up other CIA agents on location to execute your operations without a hitch. As you complete objectives over the course of twelve months, each success or failure will bring you closer to the truth.\n",
      "64.73\n",
      "2020\n",
      "https://cf.geekdo-images.com/y0x1zbkpUXjddzWWnhekYw__micro/img/oUW7QBHTiMOcpt5FgNXd_Uy2LfM=/fit-in/64x64/filters:strip_icc()/pic5581457.jpg\n",
      "Lookout Games\n",
      "Le Havre\n",
      "12+\n",
      "7.85\n",
      "InLe Havre, a player's turn consists of two parts: First, distribute newly supplied goods onto the offer spaces; then take an action. As an action, players may choose either to take all goods of one type from an offer space or to use one of the available buildings. Building actions allow players to upgrade goods, sell them or use them to build their own buildings and ships. Buildings are both an investment opportunity and a revenue stream, as players must pay an entry fee to use buildings that they do not own. Ships, on the other hand, are primarily used to provide the food that is needed to feed the workers.\n",
      "174.99\n",
      "2008\n",
      "https://cf.geekdo-images.com/y7Rqd3S6J7vyVhicR1bqTQ__micro/img/c1qPt4uwG4qhjxmrgtIuKulwQkI=/fit-in/64x64/filters:strip_icc()/pic6091101.jpg\n",
      "Fantasy Flight Games\n",
      "Star Wars: Imperial Assault\n",
      "14+\n",
      "7.98\n",
      "Star Wars: Imperial Assaultis a strategy board game of tactical combat and missions for two to five players, offering two distinct games of battle and adventure in the Star Wars universe!\n",
      "87.99\n",
      "2014\n",
      "https://cf.geekdo-images.com/pIQ_MXvaoARRp1loCHJuHg__micro/img/i2soAnlvaDCzWksrpO2By4-GgGA=/fit-in/64x64/filters:strip_icc()/pic2247647.jpg\n",
      "Fantasy Flight Games\n",
      "Android: Netrunner\n",
      "14+\n",
      "7.88\n",
      "Welcome to New Angeles, home of the Beanstalk. From our branch offices in this monument of human achievement, NBN proudly broadcasts all your favorite media programming. We offer fully comprehensive streaming in music and threedee, news and sitcoms, classic movies and sensies. We cover it all. Ours is a brave new age, and as humanity hurtles into space and the future with an astonishing series of new advances every day, NBN and our affiliates are keeping pace, bringing you all the vid that's fit to view.\n",
      "Amazon:Unavailable\n",
      "2012\n",
      "https://cf.geekdo-images.com/2ewHIIG_TRq8bYlqk0jIMw__micro/img/U5irACQ5P-7X9XyeDWj71ai-Ruw=/fit-in/64x64/filters:strip_icc()/pic3738560.jpg\n",
      "Lookout Games\n",
      "Grand Austria Hotel\n",
      "12+\n",
      "7.92\n",
      "In the thick of the Viennese modern age, exquisite cafés are competing for customers. Inspiring artists, important politicians, and tourists from all over the world are populating Vienna and in need of a hotel room. This is your opportunity to turn your little café into a world famous hotel. Hire staff, fulfill the wishes of your guests, and gain the emperor's favor. Only then will your café become the Grand Austria Hotel.\n",
      "64.99\n",
      "2015\n",
      "https://cf.geekdo-images.com/GlCmHjdLwv3SqSjv52ToGw__micro/img/egqhEcYTqBsaT7AeNBe2LdUcGZs=/fit-in/64x64/filters:strip_icc()/pic6966955.jpg\n",
      "Fantasy Flight Games\n",
      "Battlestar Galactica: The Board Game\n",
      "14+\n",
      "7.73\n",
      "Battlestar Galactica: The Board Gameis an exciting game of mistrust, intrigue, and the struggle for survival. Based on the epic and widely-acclaimed Sci Fi Channel series,Battlestar Galactica: The Board Gameputs players in the role of one of ten of their favorite characters from the show. Each playable character has their own abilities and weaknesses, and must all work together in order for humanity to have any hope of survival. However, one or more players in every game secretly side with the Cylons. Players must attempt to expose the traitor while fuel shortages, food contaminations, and political unrest threatens to tear the fleet apart.\n",
      "Amazon:Unavailable\n",
      "2008\n",
      "https://cf.geekdo-images.com/5Q2w2rFJiFI_uV89KP6ECg__micro/img/KGgAsbHUPaEjsl-r05JCH2ixP1o=/fit-in/64x64/filters:strip_icc()/pic354500.jpg\n"
     ]
    }
   ],
   "source": [
    "for k,v in game.items():\n",
    "    print(v['publisher'])\n",
    "    print(v['Name'])\n",
    "    print(v['Age'])\n",
    "    print(v['Avg Rating'])\n",
    "    print(v['Description'])\n",
    "    print(v['gamePrice'])\n",
    "    print(v['gamePublishDate'])\n",
    "    print(v['gameicon_urls'])"
   ]
  }
 ],
 "metadata": {
  "kernelspec": {
   "display_name": "gameSteam",
   "language": "python",
   "name": "python3"
  },
  "language_info": {
   "codemirror_mode": {
    "name": "ipython",
    "version": 3
   },
   "file_extension": ".py",
   "mimetype": "text/x-python",
   "name": "python",
   "nbconvert_exporter": "python",
   "pygments_lexer": "ipython3",
   "version": "3.10.9"
  },
  "orig_nbformat": 4
 },
 "nbformat": 4,
 "nbformat_minor": 2
}
